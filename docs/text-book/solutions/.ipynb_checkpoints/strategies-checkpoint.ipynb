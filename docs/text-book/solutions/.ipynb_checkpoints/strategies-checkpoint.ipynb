{
 "cells": [
  {
   "cell_type": "markdown",
   "id": "f11b56d3-3fc5-40c5-bde2-ff7ad5eb6207",
   "metadata": {},
   "source": [
    "3. Calculate the utilities (for both the row and column player) for the following game for the following strategy pairs:\n",
    "\n",
    "   $$\n",
    "   A =\n",
    "   \\begin{pmatrix}\n",
    "   1 & -1\\\\\n",
    "   -3 & 1\\end{pmatrix}\n",
    "   \\qquad\n",
    "   B =\n",
    "   \\begin{pmatrix}\n",
    "   -1 & 2\\\\\n",
    "   1 & -1\\end{pmatrix}\n",
    "   $$\n",
    "\n",
    "   1. $\\sigma_r = (.2, .8)\\qquad\\sigma_c = (.6, .4)$\n",
    "   \n",
    "      $$u_r(\\sigma_r, \\sigma_c) = \\sigma_r A \\sigma_c ^T = .2\\times.6\\times 1 + .2\\times .4\\times (-1) + .8\\times.6\\times (-3) + .8\\times .4\\times 1=-1.08$$\n",
    "      \n",
    "      $$u_c(\\sigma_r, \\sigma_c) = \\sigma_r B \\sigma_c ^T = .2\\times.6\\times (-1) + .2\\times .4\\times 2 + .8\\times.6\\times 1 + .8\\times .4\\times (-1)=0.2 $$\n",
    "   2. $\\sigma_r = (.3, .7)\\qquad\\sigma_c = (.2, .8)$\n",
    "      \n",
    "      $$u_r(\\sigma_r, \\sigma_c) = -0.04$$\n",
    "      \n",
    "      $$u_c(\\sigma_r, \\sigma_c) = 0$$\n",
    "   3. $\\sigma_r = (.9, .1)\\qquad\\sigma_c = (.5, .5)$\n",
    "      \n",
    "      $$u_r(\\sigma_r, \\sigma_c) = -0.1$$\n",
    "      \n",
    "      $$u_c(\\sigma_r, \\sigma_c) = 0.45$$"
   ]
  },
  {
   "cell_type": "code",
   "execution_count": 1,
   "id": "dffb72f1-8d5c-48ba-bcb9-c875ea7f2731",
   "metadata": {},
   "outputs": [],
   "source": [
    "import nashpy as nash\n",
    "import numpy as np\n",
    "\n",
    "A = np.array(((1, -1), (-3, 1)))\n",
    "B = np.array(((-1, 2), (1, -1)))\n",
    "game = nash.Game(A, B)"
   ]
  },
  {
   "cell_type": "code",
   "execution_count": 2,
   "id": "4b1db209-6058-46e1-85b1-df31fe5f010f",
   "metadata": {},
   "outputs": [
    {
     "data": {
      "text/plain": [
       "array([-1.08,  0.2 ])"
      ]
     },
     "execution_count": 2,
     "metadata": {},
     "output_type": "execute_result"
    }
   ],
   "source": [
    "sigma_r = np.array((.2, .8))\n",
    "sigma_c = np.array((.6, .4))\n",
    "game[sigma_r, sigma_c]"
   ]
  },
  {
   "cell_type": "code",
   "execution_count": 3,
   "id": "df7c6c52-e97a-49a3-ae30-85a0bdd78499",
   "metadata": {},
   "outputs": [
    {
     "data": {
      "text/plain": [
       "array([-4.0000000e-02,  4.4408921e-18])"
      ]
     },
     "execution_count": 3,
     "metadata": {},
     "output_type": "execute_result"
    }
   ],
   "source": [
    "sigma_r = np.array((.3, .7))\n",
    "sigma_c = np.array((.2, .8))\n",
    "game[sigma_r, sigma_c]"
   ]
  },
  {
   "cell_type": "code",
   "execution_count": 4,
   "id": "0fad9239-66aa-4317-8dae-800d260bb41d",
   "metadata": {},
   "outputs": [
    {
     "data": {
      "text/plain": [
       "array([-0.1 ,  0.45])"
      ]
     },
     "execution_count": 4,
     "metadata": {},
     "output_type": "execute_result"
    }
   ],
   "source": [
    "sigma_r = np.array((.9, .1))\n",
    "sigma_c = np.array((.5, .5))\n",
    "game[sigma_r, sigma_c]"
   ]
  },
  {
   "cell_type": "code",
   "execution_count": null,
   "id": "fa7b3636-02db-4613-bca6-dcf0225a42ba",
   "metadata": {},
   "outputs": [],
   "source": []
  }
 ],
 "metadata": {
  "kernelspec": {
   "display_name": "Python 3 (ipykernel)",
   "language": "python",
   "name": "python3"
  },
  "language_info": {
   "codemirror_mode": {
    "name": "ipython",
    "version": 3
   },
   "file_extension": ".py",
   "mimetype": "text/x-python",
   "name": "python",
   "nbconvert_exporter": "python",
   "pygments_lexer": "ipython3",
   "version": "3.11.4"
  }
 },
 "nbformat": 4,
 "nbformat_minor": 5
}
